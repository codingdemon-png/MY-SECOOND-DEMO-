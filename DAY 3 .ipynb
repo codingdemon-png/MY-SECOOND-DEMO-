{
 "cells": [
  {
   "cell_type": "markdown",
   "id": "399a3967",
   "metadata": {},
   "source": [
    "# DAY 3 OPERATORS \n"
   ]
  },
  {
   "cell_type": "code",
   "execution_count": null,
   "id": "68024f16",
   "metadata": {},
   "outputs": [],
   "source": [
    "#Arithmetic operators \n",
    "+ --- Addition\n",
    "- --- Subtraction\n",
    "* --- Multiplication \n",
    "/ --- Division\n",
    "% --- Modulus\n",
    "**--- Exponents\n",
    "// --- Floor Division \n"
   ]
  },
  {
   "cell_type": "code",
   "execution_count": 2,
   "id": "6271d42c",
   "metadata": {},
   "outputs": [
    {
     "name": "stdout",
     "output_type": "stream",
     "text": [
      "30\n"
     ]
    }
   ],
   "source": [
    "x=10\n",
    "y=20\n",
    "#Addition\n",
    "print(x+y)"
   ]
  },
  {
   "cell_type": "code",
   "execution_count": 3,
   "id": "a43fc73a",
   "metadata": {},
   "outputs": [
    {
     "name": "stdout",
     "output_type": "stream",
     "text": [
      "-10\n"
     ]
    }
   ],
   "source": [
    "#Subtraction\n",
    "print(x-y)"
   ]
  },
  {
   "cell_type": "code",
   "execution_count": 4,
   "id": "33a52980",
   "metadata": {},
   "outputs": [
    {
     "name": "stdout",
     "output_type": "stream",
     "text": [
      "200\n"
     ]
    }
   ],
   "source": [
    "#Multiplication\n",
    "print(x*y)"
   ]
  },
  {
   "cell_type": "code",
   "execution_count": 7,
   "id": "c53f8c5d",
   "metadata": {},
   "outputs": [
    {
     "name": "stdout",
     "output_type": "stream",
     "text": [
      "2.0\n",
      "2\n"
     ]
    }
   ],
   "source": [
    "#Division\n",
    "print(y/x)\n",
    "print(int(y/x))"
   ]
  },
  {
   "cell_type": "code",
   "execution_count": 8,
   "id": "ee1682bd",
   "metadata": {},
   "outputs": [
    {
     "name": "stdout",
     "output_type": "stream",
     "text": [
      "1\n"
     ]
    }
   ],
   "source": [
    "#Modulus\n",
    "a=10\n",
    "b=3\n",
    "\n",
    "print(a%b)"
   ]
  },
  {
   "cell_type": "code",
   "execution_count": 11,
   "id": "d1766fe6",
   "metadata": {},
   "outputs": [
    {
     "name": "stdout",
     "output_type": "stream",
     "text": [
      "25\n",
      "125\n"
     ]
    }
   ],
   "source": [
    "#Exponents\n",
    "r=5\n",
    "print(r**2)  #5*5\n",
    "print(r**3)  #5*5*5"
   ]
  },
  {
   "cell_type": "code",
   "execution_count": 14,
   "id": "56927049",
   "metadata": {},
   "outputs": [
    {
     "name": "stdout",
     "output_type": "stream",
     "text": [
      "3\n"
     ]
    }
   ],
   "source": [
    "#Floor Divsion\n",
    "\n",
    "p=10\n",
    "q=3\n",
    "\n",
    "print(p//q) \n",
    "#if we use double slash then it will only the only before decimal"
   ]
  },
  {
   "cell_type": "code",
   "execution_count": null,
   "id": "ee888496",
   "metadata": {},
   "outputs": [],
   "source": [
    "#Assignment operators\n",
    "\n",
    "= ---\n",
    "+= ---\n",
    "-= ---"
   ]
  },
  {
   "cell_type": "code",
   "execution_count": 17,
   "id": "ef7f65df",
   "metadata": {},
   "outputs": [
    {
     "name": "stdout",
     "output_type": "stream",
     "text": [
      "5\n"
     ]
    }
   ],
   "source": [
    "x1=5\n",
    "print(x1) \n",
    "#if we use only x then it will give the value 10 coz we have x=10 previously"
   ]
  },
  {
   "cell_type": "code",
   "execution_count": 19,
   "id": "00f6b984",
   "metadata": {},
   "outputs": [
    {
     "name": "stdout",
     "output_type": "stream",
     "text": [
      "15\n"
     ]
    }
   ],
   "source": [
    "x2=10\n",
    "x2+=5      #=x2=x2+5\n",
    "print(x2)"
   ]
  },
  {
   "cell_type": "code",
   "execution_count": 21,
   "id": "6ac70365",
   "metadata": {},
   "outputs": [
    {
     "name": "stdout",
     "output_type": "stream",
     "text": [
      "18\n"
     ]
    }
   ],
   "source": [
    "x3=20\n",
    "x3-=2      #x3=x3-2\n",
    "print(x3)"
   ]
  },
  {
   "cell_type": "code",
   "execution_count": 22,
   "id": "edf3af1f",
   "metadata": {},
   "outputs": [
    {
     "name": "stdout",
     "output_type": "stream",
     "text": [
      "40\n"
     ]
    }
   ],
   "source": [
    "x4=20\n",
    "x4*=2\n",
    "print(x4)"
   ]
  },
  {
   "cell_type": "code",
   "execution_count": null,
   "id": "7b39055e",
   "metadata": {},
   "outputs": [],
   "source": [
    "#Comparison operators:output always will be BOOLEAN\n",
    "\n",
    "== ---> Equal\n",
    "!= ---> Does not Equal to\n",
    ">  ---> Greater than\n",
    "<  ---> Less than\n",
    ">= ---> Greater than or equal to\n",
    "<= ---> Less than or equal to"
   ]
  },
  {
   "cell_type": "code",
   "execution_count": 28,
   "id": "791199e8",
   "metadata": {},
   "outputs": [
    {
     "name": "stdout",
     "output_type": "stream",
     "text": [
      "False\n",
      "True\n",
      "False\n",
      "True\n",
      "False\n",
      "True\n"
     ]
    }
   ],
   "source": [
    "val1 =20\n",
    "val2 =30     #checking of comparison operators\n",
    "\n",
    "print(val1 == val2)\n",
    "print(val1 != val2)\n",
    "print(val1>val2)\n",
    "print(val1<val2)\n",
    "print(val1>=val2)\n",
    "print(val1<=val2)"
   ]
  },
  {
   "cell_type": "code",
   "execution_count": null,
   "id": "ac6b7870",
   "metadata": {},
   "outputs": [],
   "source": [
    "#LOGICAL OPERATORS \n",
    "\n",
    "AND ---> It returns when all the conditions are True\n",
    "OR  ---> It returns True when any single condition gets match \n",
    "NOT ---> It reverse the result, return False is the result is true "
   ]
  },
  {
   "cell_type": "code",
   "execution_count": 32,
   "id": "85bf92b3",
   "metadata": {},
   "outputs": [
    {
     "data": {
      "text/plain": [
       "False"
      ]
     },
     "execution_count": 32,
     "metadata": {},
     "output_type": "execute_result"
    }
   ],
   "source": [
    "p1=10\n",
    "p2=20\n",
    "p3=30\n",
    "p1<5 and p1>10"
   ]
  },
  {
   "cell_type": "code",
   "execution_count": 33,
   "id": "018d5a95",
   "metadata": {},
   "outputs": [
    {
     "data": {
      "text/plain": [
       "False"
      ]
     },
     "execution_count": 33,
     "metadata": {},
     "output_type": "execute_result"
    }
   ],
   "source": [
    "p1<5 and p1>5"
   ]
  },
  {
   "cell_type": "code",
   "execution_count": 35,
   "id": "e371f694",
   "metadata": {},
   "outputs": [
    {
     "data": {
      "text/plain": [
       "True"
      ]
     },
     "execution_count": 35,
     "metadata": {},
     "output_type": "execute_result"
    }
   ],
   "source": [
    "p1>4 and p1>8"
   ]
  },
  {
   "cell_type": "code",
   "execution_count": 36,
   "id": "9475ef2f",
   "metadata": {},
   "outputs": [
    {
     "data": {
      "text/plain": [
       "False"
      ]
     },
     "execution_count": 36,
     "metadata": {},
     "output_type": "execute_result"
    }
   ],
   "source": [
    "p1>5 and p1>=21"
   ]
  },
  {
   "cell_type": "code",
   "execution_count": 37,
   "id": "a0b27ab6",
   "metadata": {},
   "outputs": [
    {
     "data": {
      "text/plain": [
       "False"
      ]
     },
     "execution_count": 37,
     "metadata": {},
     "output_type": "execute_result"
    }
   ],
   "source": [
    "p1>5 and p2>=21"
   ]
  },
  {
   "cell_type": "code",
   "execution_count": 39,
   "id": "dab515c0",
   "metadata": {},
   "outputs": [
    {
     "data": {
      "text/plain": [
       "False"
      ]
     },
     "execution_count": 39,
     "metadata": {},
     "output_type": "execute_result"
    }
   ],
   "source": [
    "p1=10\n",
    "p2=20\n",
    "p3=30\n",
    "p1>5 and p2>15 and p3>32"
   ]
  },
  {
   "cell_type": "code",
   "execution_count": null,
   "id": "2e665d7a",
   "metadata": {},
   "outputs": [],
   "source": [
    "#Membership operators:\n",
    "\n",
    "in : It returns true if value is existing\n",
    "not in : It returns true if value is not existing in object"
   ]
  },
  {
   "cell_type": "code",
   "execution_count": 43,
   "id": "34735d1d",
   "metadata": {},
   "outputs": [
    {
     "name": "stdout",
     "output_type": "stream",
     "text": [
      "True\n"
     ]
    }
   ],
   "source": [
    "x= \"Python\"\n",
    "print(\"h\" in x)"
   ]
  },
  {
   "cell_type": "code",
   "execution_count": 45,
   "id": "ec0d8143",
   "metadata": {},
   "outputs": [
    {
     "name": "stdout",
     "output_type": "stream",
     "text": [
      "True\n"
     ]
    }
   ],
   "source": [
    "name = \"Navneet Singh\"\n",
    "print (\"a\" in name ) # it is case sensitive so if we write any letter in CAPS then it will give false"
   ]
  },
  {
   "cell_type": "code",
   "execution_count": 49,
   "id": "a36cc196",
   "metadata": {},
   "outputs": [
    {
     "name": "stdout",
     "output_type": "stream",
     "text": [
      "False\n"
     ]
    }
   ],
   "source": [
    "dept=(\"MIS\" , \"HR\" , \"Fin\")\n",
    "print(\"Tid\" in dept)"
   ]
  },
  {
   "cell_type": "code",
   "execution_count": 50,
   "id": "8e2b1025",
   "metadata": {},
   "outputs": [
    {
     "name": "stdout",
     "output_type": "stream",
     "text": [
      "True\n"
     ]
    }
   ],
   "source": [
    "dept=(\"MIS\" , \"HR\" , \"Fin\")\n",
    "print(\"Tid\"  not in dept)"
   ]
  },
  {
   "cell_type": "code",
   "execution_count": null,
   "id": "307881e4",
   "metadata": {},
   "outputs": [],
   "source": []
  }
 ],
 "metadata": {
  "kernelspec": {
   "display_name": "Python 3 (ipykernel)",
   "language": "python",
   "name": "python3"
  },
  "language_info": {
   "codemirror_mode": {
    "name": "ipython",
    "version": 3
   },
   "file_extension": ".py",
   "mimetype": "text/x-python",
   "name": "python",
   "nbconvert_exporter": "python",
   "pygments_lexer": "ipython3",
   "version": "3.10.9"
  }
 },
 "nbformat": 4,
 "nbformat_minor": 5
}
